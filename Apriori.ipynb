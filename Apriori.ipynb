{
 "cells": [
  {
   "cell_type": "markdown",
   "metadata": {
    "id": "0U_NbahClsno"
   },
   "source": [
    "# PA 3: Association Analysis - Apriori/FP Growth"
   ]
  },
  {
   "cell_type": "markdown",
   "metadata": {},
   "source": [
    "## Tasks"
   ]
  },
  {
   "cell_type": "markdown",
   "metadata": {},
   "source": [
    "1.    Load the dataset (from the csv file)"
   ]
  },
  {
   "cell_type": "code",
   "execution_count": 1,
   "metadata": {},
   "outputs": [],
   "source": [
    "# Write your code here\n",
    "import numpy as np\n",
    "import pandas as pd\n",
    "import time\n",
    "import matplotlib.pyplot as plt\n",
    "from mlxtend.frequent_patterns import apriori, association_rules\n",
    "from mlxtend.frequent_patterns import fpgrowth, association_rules as fpgrowth_association_rules"
   ]
  },
  {
   "cell_type": "code",
   "execution_count": 2,
   "metadata": {},
   "outputs": [
    {
     "name": "stdout",
     "output_type": "stream",
     "text": [
      "(999, 17)\n"
     ]
    }
   ],
   "source": [
    "purchases = pd.read_csv('dataset3.csv')\n",
    "print(purchases.shape)"
   ]
  },
  {
   "cell_type": "code",
   "execution_count": 3,
   "metadata": {},
   "outputs": [
    {
     "data": {
      "text/html": [
       "<div>\n",
       "<style scoped>\n",
       "    .dataframe tbody tr th:only-of-type {\n",
       "        vertical-align: middle;\n",
       "    }\n",
       "\n",
       "    .dataframe tbody tr th {\n",
       "        vertical-align: top;\n",
       "    }\n",
       "\n",
       "    .dataframe thead th {\n",
       "        text-align: right;\n",
       "    }\n",
       "</style>\n",
       "<table border=\"1\" class=\"dataframe\">\n",
       "  <thead>\n",
       "    <tr style=\"text-align: right;\">\n",
       "      <th></th>\n",
       "      <th>Unnamed: 0</th>\n",
       "      <th>Apple</th>\n",
       "      <th>Bread</th>\n",
       "      <th>Butter</th>\n",
       "      <th>Cheese</th>\n",
       "      <th>Corn</th>\n",
       "      <th>Dill</th>\n",
       "      <th>Eggs</th>\n",
       "      <th>Ice cream</th>\n",
       "      <th>Kidney Beans</th>\n",
       "      <th>Milk</th>\n",
       "      <th>Nutmeg</th>\n",
       "      <th>Onion</th>\n",
       "      <th>Sugar</th>\n",
       "      <th>Unicorn</th>\n",
       "      <th>Yogurt</th>\n",
       "      <th>chocolate</th>\n",
       "    </tr>\n",
       "  </thead>\n",
       "  <tbody>\n",
       "    <tr>\n",
       "      <th>0</th>\n",
       "      <td>0</td>\n",
       "      <td>False</td>\n",
       "      <td>True</td>\n",
       "      <td>False</td>\n",
       "      <td>False</td>\n",
       "      <td>True</td>\n",
       "      <td>True</td>\n",
       "      <td>False</td>\n",
       "      <td>True</td>\n",
       "      <td>False</td>\n",
       "      <td>False</td>\n",
       "      <td>False</td>\n",
       "      <td>False</td>\n",
       "      <td>True</td>\n",
       "      <td>False</td>\n",
       "      <td>True</td>\n",
       "      <td>True</td>\n",
       "    </tr>\n",
       "    <tr>\n",
       "      <th>1</th>\n",
       "      <td>1</td>\n",
       "      <td>False</td>\n",
       "      <td>False</td>\n",
       "      <td>False</td>\n",
       "      <td>False</td>\n",
       "      <td>False</td>\n",
       "      <td>False</td>\n",
       "      <td>False</td>\n",
       "      <td>False</td>\n",
       "      <td>False</td>\n",
       "      <td>True</td>\n",
       "      <td>False</td>\n",
       "      <td>False</td>\n",
       "      <td>False</td>\n",
       "      <td>False</td>\n",
       "      <td>False</td>\n",
       "      <td>False</td>\n",
       "    </tr>\n",
       "    <tr>\n",
       "      <th>2</th>\n",
       "      <td>2</td>\n",
       "      <td>True</td>\n",
       "      <td>False</td>\n",
       "      <td>True</td>\n",
       "      <td>False</td>\n",
       "      <td>False</td>\n",
       "      <td>True</td>\n",
       "      <td>False</td>\n",
       "      <td>True</td>\n",
       "      <td>False</td>\n",
       "      <td>True</td>\n",
       "      <td>False</td>\n",
       "      <td>False</td>\n",
       "      <td>False</td>\n",
       "      <td>False</td>\n",
       "      <td>True</td>\n",
       "      <td>True</td>\n",
       "    </tr>\n",
       "    <tr>\n",
       "      <th>3</th>\n",
       "      <td>3</td>\n",
       "      <td>False</td>\n",
       "      <td>False</td>\n",
       "      <td>True</td>\n",
       "      <td>True</td>\n",
       "      <td>False</td>\n",
       "      <td>True</td>\n",
       "      <td>False</td>\n",
       "      <td>False</td>\n",
       "      <td>False</td>\n",
       "      <td>True</td>\n",
       "      <td>True</td>\n",
       "      <td>True</td>\n",
       "      <td>False</td>\n",
       "      <td>False</td>\n",
       "      <td>False</td>\n",
       "      <td>False</td>\n",
       "    </tr>\n",
       "    <tr>\n",
       "      <th>4</th>\n",
       "      <td>4</td>\n",
       "      <td>True</td>\n",
       "      <td>True</td>\n",
       "      <td>False</td>\n",
       "      <td>False</td>\n",
       "      <td>False</td>\n",
       "      <td>False</td>\n",
       "      <td>False</td>\n",
       "      <td>False</td>\n",
       "      <td>False</td>\n",
       "      <td>False</td>\n",
       "      <td>False</td>\n",
       "      <td>False</td>\n",
       "      <td>False</td>\n",
       "      <td>False</td>\n",
       "      <td>False</td>\n",
       "      <td>False</td>\n",
       "    </tr>\n",
       "  </tbody>\n",
       "</table>\n",
       "</div>"
      ],
      "text/plain": [
       "   Unnamed: 0  Apple  Bread  Butter  Cheese   Corn   Dill   Eggs  Ice cream  \\\n",
       "0           0  False   True   False   False   True   True  False       True   \n",
       "1           1  False  False   False   False  False  False  False      False   \n",
       "2           2   True  False    True   False  False   True  False       True   \n",
       "3           3  False  False    True    True  False   True  False      False   \n",
       "4           4   True   True   False   False  False  False  False      False   \n",
       "\n",
       "   Kidney Beans   Milk  Nutmeg  Onion  Sugar  Unicorn  Yogurt  chocolate  \n",
       "0         False  False   False  False   True    False    True       True  \n",
       "1         False   True   False  False  False    False   False      False  \n",
       "2         False   True   False  False  False    False    True       True  \n",
       "3         False   True    True   True  False    False   False      False  \n",
       "4         False  False   False  False  False    False   False      False  "
      ]
     },
     "execution_count": 3,
     "metadata": {},
     "output_type": "execute_result"
    }
   ],
   "source": [
    "purchases.head()"
   ]
  },
  {
   "cell_type": "markdown",
   "metadata": {},
   "source": [
    "2.    Pre-process the dataset and provide a detailed explanation (such as Handling of null values, empty strings, unncessary trailing characters such as commas and white spaces)"
   ]
  },
  {
   "cell_type": "code",
   "execution_count": 4,
   "metadata": {},
   "outputs": [
    {
     "name": "stdout",
     "output_type": "stream",
     "text": [
      "Unnamed: 0      0\n",
      "Apple           0\n",
      "Bread           0\n",
      "Butter          0\n",
      "Cheese          0\n",
      "Corn            0\n",
      "Dill            0\n",
      "Eggs            0\n",
      "Ice cream       0\n",
      "Kidney Beans    0\n",
      "Milk            0\n",
      "Nutmeg          0\n",
      "Onion           0\n",
      "Sugar           0\n",
      "Unicorn         0\n",
      "Yogurt          0\n",
      "chocolate       0\n",
      "dtype: int64\n"
     ]
    }
   ],
   "source": [
    "# # Write your code here\n",
    "# check for null values\n",
    "print(purchases.isnull().sum())\n",
    "\n",
    "# remove rows with missing values\n",
    "purchases.dropna(inplace=True)"
   ]
  },
  {
   "cell_type": "code",
   "execution_count": 5,
   "metadata": {},
   "outputs": [
    {
     "name": "stdout",
     "output_type": "stream",
     "text": [
      "(999, 17)\n"
     ]
    }
   ],
   "source": [
    "print(purchases.shape)"
   ]
  },
  {
   "cell_type": "code",
   "execution_count": 6,
   "metadata": {},
   "outputs": [],
   "source": [
    "# check for empty strings\n",
    "\n",
    "# Check for and handle null values\n",
    "if purchases.isnull().sum().sum() > 0:\n",
    "    # If there are any null values, fill them with a default value or remove the rows/columns containing nulls\n",
    "    purchases.fillna(value='default', inplace=True) # or df.dropna(inplace=True)\n",
    "\n",
    "# Check for and handle empty strings\n",
    "if (purchases == '').sum().sum() > 0:\n",
    "    # If there are any empty strings, fill them with a default value or remove the rows/columns containing empty strings\n",
    "    purchases.replace('', 'default', inplace=True) # or df.dropna(inplace=True)\n",
    "\n",
    "\n",
    "# remove trailing spaces and commas\n",
    "purchases = purchases.apply(lambda x: x.str.strip() if x.dtype == \"object\" else x)\n",
    "purchases = purchases.apply(lambda x: x.str.rstrip(\",\") if x.dtype == \"object\" else x)"
   ]
  },
  {
   "cell_type": "code",
   "execution_count": 7,
   "metadata": {},
   "outputs": [
    {
     "name": "stdout",
     "output_type": "stream",
     "text": [
      "   Unnamed: 0  Apple  Bread  Butter  Cheese   Corn   Dill   Eggs  Ice cream  \\\n",
      "0           0  False   True   False   False   True   True  False       True   \n",
      "1           1  False  False   False   False  False  False  False      False   \n",
      "2           2   True  False    True   False  False   True  False       True   \n",
      "3           3  False  False    True    True  False   True  False      False   \n",
      "4           4   True   True   False   False  False  False  False      False   \n",
      "\n",
      "   Kidney Beans   Milk  Nutmeg  Onion  Sugar  Unicorn  Yogurt  chocolate  \n",
      "0         False  False   False  False   True    False    True       True  \n",
      "1         False   True   False  False  False    False   False      False  \n",
      "2         False   True   False  False  False    False    True       True  \n",
      "3         False   True    True   True  False    False   False      False  \n",
      "4         False  False   False  False  False    False   False      False  \n",
      "(999, 17)\n"
     ]
    }
   ],
   "source": [
    "# check the pre-processed dataset\n",
    "print(purchases.head())\n",
    "print(purchases.shape)"
   ]
  },
  {
   "cell_type": "code",
   "execution_count": 8,
   "metadata": {},
   "outputs": [],
   "source": [
    "# Drop the unnamed column from the data\n",
    "purchases.drop(columns=['Unnamed: 0'], inplace=True)"
   ]
  },
  {
   "cell_type": "code",
   "execution_count": 9,
   "metadata": {},
   "outputs": [
    {
     "data": {
      "text/html": [
       "<div>\n",
       "<style scoped>\n",
       "    .dataframe tbody tr th:only-of-type {\n",
       "        vertical-align: middle;\n",
       "    }\n",
       "\n",
       "    .dataframe tbody tr th {\n",
       "        vertical-align: top;\n",
       "    }\n",
       "\n",
       "    .dataframe thead th {\n",
       "        text-align: right;\n",
       "    }\n",
       "</style>\n",
       "<table border=\"1\" class=\"dataframe\">\n",
       "  <thead>\n",
       "    <tr style=\"text-align: right;\">\n",
       "      <th></th>\n",
       "      <th>Apple</th>\n",
       "      <th>Bread</th>\n",
       "      <th>Butter</th>\n",
       "      <th>Cheese</th>\n",
       "      <th>Corn</th>\n",
       "      <th>Dill</th>\n",
       "      <th>Eggs</th>\n",
       "      <th>Ice cream</th>\n",
       "      <th>Kidney Beans</th>\n",
       "      <th>Milk</th>\n",
       "      <th>Nutmeg</th>\n",
       "      <th>Onion</th>\n",
       "      <th>Sugar</th>\n",
       "      <th>Unicorn</th>\n",
       "      <th>Yogurt</th>\n",
       "      <th>chocolate</th>\n",
       "    </tr>\n",
       "  </thead>\n",
       "  <tbody>\n",
       "    <tr>\n",
       "      <th>0</th>\n",
       "      <td>False</td>\n",
       "      <td>True</td>\n",
       "      <td>False</td>\n",
       "      <td>False</td>\n",
       "      <td>True</td>\n",
       "      <td>True</td>\n",
       "      <td>False</td>\n",
       "      <td>True</td>\n",
       "      <td>False</td>\n",
       "      <td>False</td>\n",
       "      <td>False</td>\n",
       "      <td>False</td>\n",
       "      <td>True</td>\n",
       "      <td>False</td>\n",
       "      <td>True</td>\n",
       "      <td>True</td>\n",
       "    </tr>\n",
       "    <tr>\n",
       "      <th>1</th>\n",
       "      <td>False</td>\n",
       "      <td>False</td>\n",
       "      <td>False</td>\n",
       "      <td>False</td>\n",
       "      <td>False</td>\n",
       "      <td>False</td>\n",
       "      <td>False</td>\n",
       "      <td>False</td>\n",
       "      <td>False</td>\n",
       "      <td>True</td>\n",
       "      <td>False</td>\n",
       "      <td>False</td>\n",
       "      <td>False</td>\n",
       "      <td>False</td>\n",
       "      <td>False</td>\n",
       "      <td>False</td>\n",
       "    </tr>\n",
       "    <tr>\n",
       "      <th>2</th>\n",
       "      <td>True</td>\n",
       "      <td>False</td>\n",
       "      <td>True</td>\n",
       "      <td>False</td>\n",
       "      <td>False</td>\n",
       "      <td>True</td>\n",
       "      <td>False</td>\n",
       "      <td>True</td>\n",
       "      <td>False</td>\n",
       "      <td>True</td>\n",
       "      <td>False</td>\n",
       "      <td>False</td>\n",
       "      <td>False</td>\n",
       "      <td>False</td>\n",
       "      <td>True</td>\n",
       "      <td>True</td>\n",
       "    </tr>\n",
       "    <tr>\n",
       "      <th>3</th>\n",
       "      <td>False</td>\n",
       "      <td>False</td>\n",
       "      <td>True</td>\n",
       "      <td>True</td>\n",
       "      <td>False</td>\n",
       "      <td>True</td>\n",
       "      <td>False</td>\n",
       "      <td>False</td>\n",
       "      <td>False</td>\n",
       "      <td>True</td>\n",
       "      <td>True</td>\n",
       "      <td>True</td>\n",
       "      <td>False</td>\n",
       "      <td>False</td>\n",
       "      <td>False</td>\n",
       "      <td>False</td>\n",
       "    </tr>\n",
       "    <tr>\n",
       "      <th>4</th>\n",
       "      <td>True</td>\n",
       "      <td>True</td>\n",
       "      <td>False</td>\n",
       "      <td>False</td>\n",
       "      <td>False</td>\n",
       "      <td>False</td>\n",
       "      <td>False</td>\n",
       "      <td>False</td>\n",
       "      <td>False</td>\n",
       "      <td>False</td>\n",
       "      <td>False</td>\n",
       "      <td>False</td>\n",
       "      <td>False</td>\n",
       "      <td>False</td>\n",
       "      <td>False</td>\n",
       "      <td>False</td>\n",
       "    </tr>\n",
       "  </tbody>\n",
       "</table>\n",
       "</div>"
      ],
      "text/plain": [
       "   Apple  Bread  Butter  Cheese   Corn   Dill   Eggs  Ice cream  Kidney Beans  \\\n",
       "0  False   True   False   False   True   True  False       True         False   \n",
       "1  False  False   False   False  False  False  False      False         False   \n",
       "2   True  False    True   False  False   True  False       True         False   \n",
       "3  False  False    True    True  False   True  False      False         False   \n",
       "4   True   True   False   False  False  False  False      False         False   \n",
       "\n",
       "    Milk  Nutmeg  Onion  Sugar  Unicorn  Yogurt  chocolate  \n",
       "0  False   False  False   True    False    True       True  \n",
       "1   True   False  False  False    False   False      False  \n",
       "2   True   False  False  False    False    True       True  \n",
       "3   True    True   True  False    False   False      False  \n",
       "4  False   False  False  False    False   False      False  "
      ]
     },
     "execution_count": 9,
     "metadata": {},
     "output_type": "execute_result"
    }
   ],
   "source": [
    "purchases.head()"
   ]
  },
  {
   "cell_type": "markdown",
   "metadata": {},
   "source": [
    "### Explanation of the pre-processing steps\n",
    "\n",
    "#### First me remove all the rows with missing data / NA values.\n",
    "#### purchases.isnull().sum().sum() and (purchases == '').sum().sum() are used to check the nan and empty values in the entire dataset respectively.\n",
    "#### purchases.applymap(lambda x: x.strip() if type(x) == str else x) is used to remove all the extra spaces and trailing characters that are unnecessary.\n",
    "#### purchases.drop(columns=['Unnamed: 0'], inplace=True is used to remove the unnamed column from the dataset"
   ]
  },
  {
   "cell_type": "markdown",
   "metadata": {},
   "source": [
    "3.    Encode the dataset"
   ]
  },
  {
   "cell_type": "code",
   "execution_count": 10,
   "metadata": {},
   "outputs": [
    {
     "data": {
      "text/html": [
       "<div>\n",
       "<style scoped>\n",
       "    .dataframe tbody tr th:only-of-type {\n",
       "        vertical-align: middle;\n",
       "    }\n",
       "\n",
       "    .dataframe tbody tr th {\n",
       "        vertical-align: top;\n",
       "    }\n",
       "\n",
       "    .dataframe thead th {\n",
       "        text-align: right;\n",
       "    }\n",
       "</style>\n",
       "<table border=\"1\" class=\"dataframe\">\n",
       "  <thead>\n",
       "    <tr style=\"text-align: right;\">\n",
       "      <th></th>\n",
       "      <th>Apple</th>\n",
       "      <th>Bread</th>\n",
       "      <th>Butter</th>\n",
       "      <th>Cheese</th>\n",
       "      <th>Corn</th>\n",
       "      <th>Dill</th>\n",
       "      <th>Eggs</th>\n",
       "      <th>Ice cream</th>\n",
       "      <th>Kidney Beans</th>\n",
       "      <th>Milk</th>\n",
       "      <th>Nutmeg</th>\n",
       "      <th>Onion</th>\n",
       "      <th>Sugar</th>\n",
       "      <th>Unicorn</th>\n",
       "      <th>Yogurt</th>\n",
       "      <th>chocolate</th>\n",
       "    </tr>\n",
       "  </thead>\n",
       "  <tbody>\n",
       "    <tr>\n",
       "      <th>0</th>\n",
       "      <td>0</td>\n",
       "      <td>1</td>\n",
       "      <td>0</td>\n",
       "      <td>0</td>\n",
       "      <td>1</td>\n",
       "      <td>1</td>\n",
       "      <td>0</td>\n",
       "      <td>1</td>\n",
       "      <td>0</td>\n",
       "      <td>0</td>\n",
       "      <td>0</td>\n",
       "      <td>0</td>\n",
       "      <td>1</td>\n",
       "      <td>0</td>\n",
       "      <td>1</td>\n",
       "      <td>1</td>\n",
       "    </tr>\n",
       "    <tr>\n",
       "      <th>1</th>\n",
       "      <td>0</td>\n",
       "      <td>0</td>\n",
       "      <td>0</td>\n",
       "      <td>0</td>\n",
       "      <td>0</td>\n",
       "      <td>0</td>\n",
       "      <td>0</td>\n",
       "      <td>0</td>\n",
       "      <td>0</td>\n",
       "      <td>1</td>\n",
       "      <td>0</td>\n",
       "      <td>0</td>\n",
       "      <td>0</td>\n",
       "      <td>0</td>\n",
       "      <td>0</td>\n",
       "      <td>0</td>\n",
       "    </tr>\n",
       "    <tr>\n",
       "      <th>2</th>\n",
       "      <td>1</td>\n",
       "      <td>0</td>\n",
       "      <td>1</td>\n",
       "      <td>0</td>\n",
       "      <td>0</td>\n",
       "      <td>1</td>\n",
       "      <td>0</td>\n",
       "      <td>1</td>\n",
       "      <td>0</td>\n",
       "      <td>1</td>\n",
       "      <td>0</td>\n",
       "      <td>0</td>\n",
       "      <td>0</td>\n",
       "      <td>0</td>\n",
       "      <td>1</td>\n",
       "      <td>1</td>\n",
       "    </tr>\n",
       "    <tr>\n",
       "      <th>3</th>\n",
       "      <td>0</td>\n",
       "      <td>0</td>\n",
       "      <td>1</td>\n",
       "      <td>1</td>\n",
       "      <td>0</td>\n",
       "      <td>1</td>\n",
       "      <td>0</td>\n",
       "      <td>0</td>\n",
       "      <td>0</td>\n",
       "      <td>1</td>\n",
       "      <td>1</td>\n",
       "      <td>1</td>\n",
       "      <td>0</td>\n",
       "      <td>0</td>\n",
       "      <td>0</td>\n",
       "      <td>0</td>\n",
       "    </tr>\n",
       "    <tr>\n",
       "      <th>4</th>\n",
       "      <td>1</td>\n",
       "      <td>1</td>\n",
       "      <td>0</td>\n",
       "      <td>0</td>\n",
       "      <td>0</td>\n",
       "      <td>0</td>\n",
       "      <td>0</td>\n",
       "      <td>0</td>\n",
       "      <td>0</td>\n",
       "      <td>0</td>\n",
       "      <td>0</td>\n",
       "      <td>0</td>\n",
       "      <td>0</td>\n",
       "      <td>0</td>\n",
       "      <td>0</td>\n",
       "      <td>0</td>\n",
       "    </tr>\n",
       "  </tbody>\n",
       "</table>\n",
       "</div>"
      ],
      "text/plain": [
       "   Apple  Bread  Butter  Cheese  Corn  Dill  Eggs  Ice cream  Kidney Beans  \\\n",
       "0      0      1       0       0     1     1     0          1             0   \n",
       "1      0      0       0       0     0     0     0          0             0   \n",
       "2      1      0       1       0     0     1     0          1             0   \n",
       "3      0      0       1       1     0     1     0          0             0   \n",
       "4      1      1       0       0     0     0     0          0             0   \n",
       "\n",
       "   Milk  Nutmeg  Onion  Sugar  Unicorn  Yogurt  chocolate  \n",
       "0     0       0      0      1        0       1          1  \n",
       "1     1       0      0      0        0       0          0  \n",
       "2     1       0      0      0        0       1          1  \n",
       "3     1       1      1      0        0       0          0  \n",
       "4     0       0      0      0        0       0          0  "
      ]
     },
     "execution_count": 10,
     "metadata": {},
     "output_type": "execute_result"
    }
   ],
   "source": [
    "# Encode the dataset where all the boolean values are converted to integer 0 and 1.\n",
    "# In this case 0 represents false and 1 represents true\n",
    "purchases_encoded =purchases.astype(int)\n",
    "purchases_encoded.head()"
   ]
  },
  {
   "cell_type": "markdown",
   "metadata": {},
   "source": [
    "For each of the combinations in tasks 4 & 5, print the output in the following Sample format: \n",
    "\n",
    "- Support = 0.02\n",
    "- Confidence = 0.1\n",
    "- Total Number of Association Rules: 10\n",
    "- Top 5 rules ordered by Confidence descending:\n",
    "- Number of Maximal Sets: 5\n",
    "- Number of Closed Sets: 5"
   ]
  },
  {
   "cell_type": "markdown",
   "metadata": {},
   "source": [
    "4.\tExecute Apriori algorithm and generate rules for 3 different combinations of support and confidence"
   ]
  },
  {
   "cell_type": "code",
   "execution_count": 11,
   "metadata": {},
   "outputs": [
    {
     "name": "stdout",
     "output_type": "stream",
     "text": [
      "    support  itemsets\n",
      "0  0.383383   (Apple)\n",
      "1  0.384384   (Bread)\n",
      "2  0.420420  (Butter)\n",
      "3  0.404404  (Cheese)\n",
      "4  0.407407    (Corn)\n",
      "  antecedents consequents  antecedent support  consequent support   support  \\\n",
      "0     (Bread)     (Apple)            0.384384            0.383383  0.154154   \n",
      "1     (Apple)     (Bread)            0.383383            0.384384  0.154154   \n",
      "2    (Butter)     (Apple)            0.420420            0.383383  0.188188   \n",
      "3     (Apple)    (Butter)            0.383383            0.420420  0.188188   \n",
      "4    (Cheese)     (Apple)            0.404404            0.383383  0.162162   \n",
      "\n",
      "   confidence      lift  leverage  conviction  zhangs_metric  \n",
      "0    0.401042  1.046059  0.006788    1.029482       0.071524  \n",
      "1    0.402089  1.046059  0.006788    1.029610       0.071407  \n",
      "2    0.447619  1.167549  0.027006    1.116289       0.247602  \n",
      "3    0.490862  1.167549  0.027006    1.138354       0.232730  \n",
      "4    0.400990  1.045925  0.007120    1.029393       0.073721  \n",
      "Support: 0.02\n",
      "Confidence: 0.1\n",
      "Number of frequent itemsets: 5545\n",
      "Number of association rules: 102985\n",
      "Top 5 rules ordered by confidence:\n",
      "                                             antecedents     consequents  \\\n",
      "102325               (Corn, Butter, Milk, Nutmeg, Bread)  (Kidney Beans)   \n",
      "102495  (Unicorn, Kidney Beans, chocolate, Bread, Sugar)        (Yogurt)   \n",
      "42750                    (Unicorn, Sugar, Nutmeg, Apple)          (Corn)   \n",
      "102215        (Corn, Kidney Beans, Cheese, Sugar, Apple)       (Unicorn)   \n",
      "57931                        (Bread, Corn, Nutmeg, Milk)  (Kidney Beans)   \n",
      "\n",
      "         support  confidence  \n",
      "102325  0.021021    0.875000  \n",
      "102495  0.020020    0.833333  \n",
      "42750   0.031031    0.794872  \n",
      "102215  0.022022    0.785714  \n",
      "57931   0.033033    0.785714  \n",
      "Number of maximal sets: 282\n",
      "Number of closed sets: 0\n"
     ]
    }
   ],
   "source": [
    "# Define the minimum support and confidence values\n",
    "min_support1 = 0.02\n",
    "min_confidence1 = 0.1\n",
    "\n",
    "# Apply the apriori algorithm with the current minimum support value\n",
    "frequent_itemsets1 = apriori(purchases_encoded.astype('bool'), min_support=min_support1, use_colnames=True)\n",
    "print(frequent_itemsets1.head())\n",
    "# Generate association rules with the current minimum confidence value\n",
    "rules1 = association_rules(frequent_itemsets1, metric=\"confidence\", min_threshold=min_confidence1)\n",
    "print(rules1.head())\n",
    "\n",
    "# Print the requested information\n",
    "print(\"Support:\", min_support1)\n",
    "print(\"Confidence:\", min_confidence1)\n",
    "print(\"Number of frequent itemsets:\", frequent_itemsets1.shape[0])\n",
    "print(\"Number of association rules:\", rules1.shape[0])\n",
    "print(\"Top 5 rules ordered by confidence:\")\n",
    "print(rules1[['antecedents', 'consequents', 'support', 'confidence']].sort_values(by='confidence', ascending=False).head())\n",
    "print(\"Number of maximal sets:\", len(rules1[rules1['antecedent support'] == rules1['consequent support']]))\n",
    "print(\"Number of closed sets:\", len(rules1[rules1['support'] == rules1['antecedent support']]))"
   ]
  },
  {
   "cell_type": "code",
   "execution_count": 12,
   "metadata": {},
   "outputs": [
    {
     "name": "stdout",
     "output_type": "stream",
     "text": [
      "Minimum support: 0.03\n",
      "Minimum confidence: 0.2\n",
      "Number of frequent itemsets: 2617\n",
      "Number of association rules: 22111\n",
      "Top 5 rules ordered by confidence:\n",
      "                           antecedents     consequents   support  confidence\n",
      "20686  (Unicorn, Sugar, Nutmeg, Apple)          (Corn)  0.031031    0.794872\n",
      "20924      (Bread, Corn, Nutmeg, Milk)  (Kidney Beans)  0.033033    0.785714\n",
      "20548       (Onion, Corn, Eggs, Apple)         (Sugar)  0.031031    0.775000\n",
      "20566    (Eggs, Unicorn, Sugar, Apple)          (Corn)  0.030030    0.769231\n",
      "20833      (Bread, Corn, Butter, Milk)  (Kidney Beans)  0.032032    0.744186\n",
      "Number of maximal sets: 244\n",
      "Number of closed sets: 0\n"
     ]
    }
   ],
   "source": [
    "# Define the minimum support and confidence values\n",
    "min_support2 = 0.03\n",
    "min_confidence2 = 0.2\n",
    "\n",
    "# Apply the apriori algorithm with the current minimum support value\n",
    "frequent_itemsets2 = apriori(purchases_encoded.astype('bool'), min_support=min_support2, use_colnames=True)\n",
    "\n",
    "# Generate association rules with the current minimum confidence value\n",
    "rules2 = association_rules(frequent_itemsets2, metric=\"confidence\", min_threshold=min_confidence2)\n",
    "\n",
    "# Print the requested information\n",
    "print(\"Minimum support:\", min_support2)\n",
    "print(\"Minimum confidence:\", min_confidence2)\n",
    "print(\"Number of frequent itemsets:\", frequent_itemsets2.shape[0])\n",
    "print(\"Number of association rules:\", rules2.shape[0])\n",
    "print(\"Top 5 rules ordered by confidence:\")\n",
    "print(rules2[['antecedents', 'consequents', 'support', 'confidence']].sort_values(by='confidence', ascending=False).head())\n",
    "print(\"Number of maximal sets:\", len(rules2[rules2['antecedent support'] == rules2['consequent support']]))\n",
    "print(\"Number of closed sets:\", len(rules2[rules2['support'] == rules2['antecedent support']]))"
   ]
  },
  {
   "cell_type": "code",
   "execution_count": 13,
   "metadata": {},
   "outputs": [
    {
     "name": "stdout",
     "output_type": "stream",
     "text": [
      "Minimum support: 0.05\n",
      "Minimum confidence: 0.5\n",
      "Number of frequent itemsets: 947\n",
      "Number of association rules: 1494\n",
      "Top 5 rules ordered by confidence:\n",
      "                      antecedents     consequents   support  confidence\n",
      "1361        (Unicorn, Dill, Milk)     (chocolate)  0.062062    0.681319\n",
      "1200     (Unicorn, Sugar, Cheese)  (Kidney Beans)  0.054054    0.666667\n",
      "1158  (Cheese, Yogurt, Ice cream)  (Kidney Beans)  0.057057    0.655172\n",
      "1120         (Cheese, Dill, Milk)     (chocolate)  0.055055    0.654762\n",
      "645          (Onion, Corn, Apple)         (Sugar)  0.054054    0.650602\n",
      "Number of maximal sets: 0\n",
      "Number of closed sets: 0\n"
     ]
    }
   ],
   "source": [
    "# Define the minimum support and confidence values\n",
    "min_support3 = 0.05\n",
    "min_confidence3 = 0.5\n",
    "\n",
    "# Apply the apriori algorithm with the current minimum support value\n",
    "frequent_itemsets3 = apriori(purchases_encoded.astype('bool'), min_support=min_support3, use_colnames=True)\n",
    "\n",
    "# Generate association rules with the current minimum confidence value\n",
    "rules3 = association_rules(frequent_itemsets3, metric=\"confidence\", min_threshold=min_confidence3)\n",
    "\n",
    "# Print the requested information\n",
    "print(\"Minimum support:\", min_support3)\n",
    "print(\"Minimum confidence:\", min_confidence3)\n",
    "print(\"Number of frequent itemsets:\", frequent_itemsets3.shape[0])\n",
    "print(\"Number of association rules:\", rules3.shape[0])\n",
    "print(\"Top 5 rules ordered by confidence:\")\n",
    "print(rules3[['antecedents', 'consequents', 'support', 'confidence']].sort_values(by='confidence', ascending=False).head())\n",
    "print(\"Number of maximal sets:\", len(rules3[rules3['antecedent support'] == rules3['consequent support']]))\n",
    "print(\"Number of closed sets:\", len(rules3[rules3['support'] == rules3['antecedent support']]))"
   ]
  },
  {
   "cell_type": "markdown",
   "metadata": {},
   "source": [
    "5.    Execute FP Growth algorithm and generate rules for 3 different combinations of support and confidence"
   ]
  },
  {
   "cell_type": "code",
   "execution_count": 14,
   "metadata": {},
   "outputs": [
    {
     "name": "stdout",
     "output_type": "stream",
     "text": [
      "    support     itemsets\n",
      "0  0.421421  (chocolate)\n",
      "1  0.420420     (Yogurt)\n",
      "2  0.410410  (Ice cream)\n",
      "3  0.409409      (Sugar)\n",
      "4  0.407407       (Corn)\n",
      "   antecedents  consequents  antecedent support  consequent support   support  \\\n",
      "0  (chocolate)     (Yogurt)            0.421421            0.420420  0.198198   \n",
      "1     (Yogurt)  (chocolate)            0.420420            0.421421  0.198198   \n",
      "2  (chocolate)  (Ice cream)            0.421421            0.410410  0.202202   \n",
      "3  (Ice cream)  (chocolate)            0.410410            0.421421  0.202202   \n",
      "4     (Yogurt)  (Ice cream)            0.420420            0.410410  0.182182   \n",
      "\n",
      "   confidence      lift  leverage  conviction  zhangs_metric  \n",
      "0    0.470309  1.118663  0.021024    1.094184       0.183339  \n",
      "1    0.471429  1.118663  0.021024    1.094608       0.183022  \n",
      "2    0.479810  1.169098  0.029246    1.133412       0.249991  \n",
      "3    0.492683  1.169098  0.029246    1.140467       0.245323  \n",
      "4    0.433333  1.055854  0.009637    1.040452       0.091271  \n",
      "Support: 0.02\n",
      "Confidence: 0.1\n",
      "Number of frequent itemsets: 5545\n",
      "Number of association rules: 102985\n",
      "Top 5 rules ordered by confidence:\n",
      "                                            antecedents     consequents  \\\n",
      "22397               (Corn, Butter, Milk, Nutmeg, Bread)  (Kidney Beans)   \n",
      "23666  (Unicorn, Kidney Beans, chocolate, Bread, Sugar)        (Yogurt)   \n",
      "43425                   (Unicorn, Sugar, Nutmeg, Apple)          (Corn)   \n",
      "48791        (Corn, Kidney Beans, Cheese, Sugar, Apple)       (Unicorn)   \n",
      "22091                       (Bread, Corn, Nutmeg, Milk)  (Kidney Beans)   \n",
      "\n",
      "        support  confidence  \n",
      "22397  0.021021    0.875000  \n",
      "23666  0.020020    0.833333  \n",
      "43425  0.031031    0.794872  \n",
      "48791  0.022022    0.785714  \n",
      "22091  0.033033    0.785714  \n",
      "Number of maximal sets: 282\n",
      "Number of closed sets: 0\n"
     ]
    }
   ],
   "source": [
    "# Define the minimum support and confidence values\n",
    "min_support1 = 0.02\n",
    "min_confidence1 = 0.1\n",
    "\n",
    "# Apply the FP Growth algorithm with the current minimum support value\n",
    "frequent_itemsets1 = fpgrowth(purchases_encoded.astype('bool'), min_support=min_support1, use_colnames=True)\n",
    "print(frequent_itemsets1.head())\n",
    "# Generate association rules with the current minimum confidence value\n",
    "rules1 = association_rules(frequent_itemsets1, metric=\"confidence\", min_threshold=min_confidence1)\n",
    "print(rules1.head())\n",
    "\n",
    "# Print the requested information\n",
    "print(\"Support:\", min_support1)\n",
    "print(\"Confidence:\", min_confidence1)\n",
    "print(\"Number of frequent itemsets:\", frequent_itemsets1.shape[0])\n",
    "print(\"Number of association rules:\", rules1.shape[0])\n",
    "print(\"Top 5 rules ordered by confidence:\")\n",
    "print(rules1[['antecedents', 'consequents', 'support', 'confidence']].sort_values(by='confidence', ascending=False).head())\n",
    "print(\"Number of maximal sets:\", len(rules1[rules1['antecedent support'] == rules1['consequent support']]))\n",
    "print(\"Number of closed sets:\", len(rules1[rules1['support'] == rules1['antecedent support']]))"
   ]
  },
  {
   "cell_type": "code",
   "execution_count": 15,
   "metadata": {},
   "outputs": [
    {
     "name": "stdout",
     "output_type": "stream",
     "text": [
      "Support: 0.03\n",
      "Confidence: 0.2\n",
      "Number of frequent itemsets: 2617\n",
      "Number of association rules: 22111\n",
      "Top 5 rules ordered by confidence:\n",
      "                           antecedents     consequents   support  confidence\n",
      "9520   (Unicorn, Sugar, Nutmeg, Apple)          (Corn)  0.031031    0.794872\n",
      "5167       (Bread, Corn, Nutmeg, Milk)  (Kidney Beans)  0.033033    0.785714\n",
      "11047       (Onion, Corn, Eggs, Apple)         (Sugar)  0.031031    0.775000\n",
      "11296    (Eggs, Unicorn, Sugar, Apple)          (Corn)  0.030030    0.769231\n",
      "5445       (Bread, Corn, Butter, Milk)  (Kidney Beans)  0.032032    0.744186\n",
      "Number of maximal sets: 244\n",
      "Number of closed sets: 0\n"
     ]
    }
   ],
   "source": [
    "# Define the minimum support and confidence values\n",
    "min_support2 = 0.03\n",
    "min_confidence2 = 0.2\n",
    "\n",
    "# Apply the FP Growth algorithm with the current minimum support value\n",
    "frequent_itemsets2 = fpgrowth(purchases_encoded.astype('bool'), min_support=min_support2, use_colnames=True)\n",
    "\n",
    "# Generate association rules with the current minimum confidence value\n",
    "rules2 = association_rules(frequent_itemsets2, metric=\"confidence\", min_threshold=min_confidence2)\n",
    "\n",
    "# Print the requested information\n",
    "print(\"Support:\", min_support2)\n",
    "print(\"Confidence:\", min_confidence2)\n",
    "print(\"Number of frequent itemsets:\", frequent_itemsets2.shape[0])\n",
    "print(\"Number of association rules:\", rules2.shape[0])\n",
    "print(\"Top 5 rules ordered by confidence:\")\n",
    "print(rules2[['antecedents', 'consequents', 'support', 'confidence']].sort_values(by='confidence', ascending=False).head())\n",
    "print(\"Number of maximal sets:\", len(rules2[rules2['antecedent support'] == rules2['consequent support']]))\n",
    "print(\"Number of closed sets:\", len(rules2[rules2['support'] == rules2['antecedent support']]))"
   ]
  },
  {
   "cell_type": "code",
   "execution_count": 16,
   "metadata": {},
   "outputs": [
    {
     "name": "stdout",
     "output_type": "stream",
     "text": [
      "Support: 0.04\n",
      "Confidence: 0.4\n",
      "Number of frequent itemsets: 2058\n",
      "Number of association rules: 7339\n",
      "Top 5 rules ordered by confidence:\n",
      "                   antecedents     consequents   support  confidence\n",
      "5654     (Unicorn, Dill, Milk)     (chocolate)  0.062062    0.681319\n",
      "3605    (Eggs, Unicorn, Apple)          (Corn)  0.046046    0.676471\n",
      "5506  (Unicorn, Sugar, Cheese)  (Kidney Beans)  0.054054    0.666667\n",
      "1965       (Bread, Eggs, Dill)        (Yogurt)  0.045045    0.661765\n",
      "5819   (Unicorn, Nutmeg, Dill)     (chocolate)  0.046046    0.657143\n",
      "Number of maximal sets: 4\n",
      "Number of closed sets: 0\n"
     ]
    }
   ],
   "source": [
    "# Define the minimum support and confidence values\n",
    "min_support3 = 0.04\n",
    "min_confidence3 = 0.4\n",
    "\n",
    "# Apply the FP Growth algorithm with the current minimum support value\n",
    "frequent_itemsets3 = fpgrowth(purchases_encoded.astype('bool'), min_support=min_support3, use_colnames=True)\n",
    "\n",
    "# Generate association rules with the current minimum confidence value\n",
    "rules3 = association_rules(frequent_itemsets3, metric=\"confidence\", min_threshold=min_confidence3)\n",
    "\n",
    "# Print the requested information\n",
    "print(\"Support:\", min_support3)\n",
    "print(\"Confidence:\", min_confidence3)\n",
    "print(\"Number of frequent itemsets:\", frequent_itemsets3.shape[0])\n",
    "print(\"Number of association rules:\", rules3.shape[0])\n",
    "print(\"Top 5 rules ordered by confidence:\")\n",
    "print(rules3[['antecedents', 'consequents', 'support', 'confidence']].sort_values(by='confidence', ascending=False).head())\n",
    "print(\"Number of maximal sets:\", len(rules3[rules3['antecedent support'] == rules3['consequent support']]))\n",
    "print(\"Number of closed sets:\", len(rules3[rules3['support'] == rules3['antecedent support']]))"
   ]
  },
  {
   "cell_type": "markdown",
   "metadata": {},
   "source": [
    "6.\tPlot the following graphs comparing both the algorithms:\n",
    "    - time vs minimum support\n",
    "    - time vs number of itemsets"
   ]
  },
  {
   "cell_type": "code",
   "execution_count": 17,
   "metadata": {},
   "outputs": [
    {
     "data": {
      "image/png": "[encoded data removed]",
      "text/plain": [
       "<Figure size 432x288 with 1 Axes>"
      ]
     },
     "metadata": {
      "needs_background": "light"
     },
     "output_type": "display_data"
    }
   ],
   "source": [
    "# Write your code here\n",
    "# Set minimum support range\n",
    "min_sup_range = [0.01, 0.02, 0.03, 0.04, 0.05, 0.06, 0.07]\n",
    "\n",
    "# Initialize lists to store results\n",
    "apriori_times = []\n",
    "fpgrowth_times = []\n",
    "apriori_itemsets = []\n",
    "fpgrowth_itemsets = []\n",
    "\n",
    "# Loop through minimum support range and generate frequent itemsets for both algorithms\n",
    "for min_sup in min_sup_range:\n",
    "    # Apriori algorithm\n",
    "    start_time = time.time()\n",
    "    apriori_itemsets.append(apriori(purchases_encoded.astype('bool'), min_support=min_sup))\n",
    "    apriori_times.append(time.time() - start_time)\n",
    "    \n",
    "    # FP-growth algorithm\n",
    "    start_time = time.time()\n",
    "    fpgrowth_itemsets.append(fpgrowth(purchases_encoded.astype('bool'), min_support=min_sup))\n",
    "    fpgrowth_times.append(time.time() - start_time)\n",
    "\n",
    "# Plot time vs. minimum support\n",
    "plt.plot(min_sup_range, apriori_times, label='Apriori')\n",
    "plt.plot(min_sup_range, fpgrowth_times, label='FP-growth')\n",
    "plt.xlabel('Minimum support')\n",
    "plt.ylabel('Execution time (s)')\n",
    "plt.title('Comparison of Apriori and FP-growth algorithms (Support)')\n",
    "plt.legend()\n",
    "plt.show()"
   ]
  },
  {
   "cell_type": "code",
   "execution_count": 19,
   "metadata": {},
   "outputs": [
    {
     "data": {
      "image/png": "[encoded data removed]",
      "text/plain": [
       "<Figure size 432x288 with 1 Axes>"
      ]
     },
     "metadata": {
      "needs_background": "light"
     },
     "output_type": "display_data"
    }
   ],
   "source": [
    "# Plot time vs. number of itemsets\n",
    "apriori_num_itemsets = [len(itemsets) for itemsets in apriori_itemsets]\n",
    "fpgrowth_num_itemsets = [len(itemsets) for itemsets in fpgrowth_itemsets]\n",
    "plt.plot(apriori_num_itemsets, apriori_times, label='Apriori')\n",
    "plt.plot(fpgrowth_num_itemsets, fpgrowth_times, label='FP-growth')\n",
    "plt.xlabel('Number of itemsets')\n",
    "plt.ylabel('Execution time (s)')\n",
    "plt.title('Comparison of Apriori and FP-growth algorithms(Itemset)')\n",
    "plt.legend()\n",
    "plt.show()"
   ]
  },
  {
   "cell_type": "markdown",
   "metadata": {},
   "source": [
    "7.    Explain the insights that you got from the graphs. Which algorithm worked better and what do you believe is the reason?"
   ]
  },
  {
   "cell_type": "markdown",
   "metadata": {},
   "source": [
    "### Insights\n",
    "\n",
    "##### The performance of Apriori and FP-growth algorithms can vary based on a number of criteria, including dataset size, data sparsity, minimum support threshold, and technology utilized to run the algorithms.\n",
    "\n",
    "##### The FP-growth approach is often quicker than the Apriori technique, particularly for big and sparse datasets.\n",
    "\n",
    "#### But in the above graphs, we can see that apriori performed better than the fp growth this can be because of the following reasons\n",
    "##### 1. For smaller datasets, the Apriori method may be more efficient than the FP-growth algorithm since it takes fewer memory resources and can analyze smaller datasets quicker.\n",
    "##### 2. The FP-growth technique may take longer to handle low-density datasets because it takes more time to generate and traverse the FP-tree. In contrast, the Apriori approach may be more efficient for sparse datasets.\n",
    "##### 3. The efficiency of the algorithms can also depend on the computational resources available on the machine\n"
   ]
  },
  {
   "cell_type": "markdown",
   "metadata": {
    "id": "USb_soVC0XDc"
   },
   "source": [
    "# Rubric\n",
    "* [02 points] - Student Details and complying with submission instructions \n",
    "* [03 points] - Task 1 \n",
    "* [10 points] - Task 2\n",
    "* [05 points] - Task 3\n",
    "* [25 points] - Task 4\n",
    "* [25 points] - Task 5\n",
    "* [20 points] - task 6\n",
    "* [10 points] - task 7"
   ]
  },
  {
   "cell_type": "markdown",
   "metadata": {},
   "source": [
    "### References\n",
    "\n",
    "#### https://datatofish.com/check-nan-pandas-dataframe/\n",
    "#### https://medium.com/analytics-vidhya/association-analysis-in-python-2b955d0180c\n",
    "#### https://www.kaggle.com/code/keitazoumana/comparative-analysis-between-apriori-and-fp-growth"
   ]
  }
 ],
 "metadata": {
  "colab": {
   "provenance": []
  },
  "kernelspec": {
   "display_name": "Python 3 (ipykernel)",
   "language": "python",
   "name": "python3"
  },
  "language_info": {
   "codemirror_mode": {
    "name": "ipython",
    "version": 3
   },
   "file_extension": ".py",
   "mimetype": "text/x-python",
   "name": "python",
   "nbconvert_exporter": "python",
   "pygments_lexer": "ipython3",
   "version": "3.9.7"
  }
 },
 "nbformat": 4,
 "nbformat_minor": 1
}
